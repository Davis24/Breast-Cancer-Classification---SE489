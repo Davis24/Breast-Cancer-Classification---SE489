{
 "cells": [
  {
   "cell_type": "markdown",
   "id": "f65a4eb9",
   "metadata": {},
   "source": [
    "# Breast Cancer Classification Runner\n",
    "With this notebook you can quickly test the project and run the code. However this should only be used for testing purposes."
   ]
  },
  {
   "cell_type": "code",
   "execution_count": 6,
   "id": "6f12c838",
   "metadata": {},
   "outputs": [],
   "source": [
    "import sys\n",
    "\n",
    "#The breast_cancer_classification module sits in a higher directy, we must append the path.\n",
    "sys.path.append(\"../../\")\n",
    "\n",
    "import breast_cancer_classification\n",
    "import breast_cancer_classification.dataset\n",
    "import breast_cancer_classification.modeling.train\n",
    "import breast_cancer_classification.modeling.predict\n"
   ]
  },
  {
   "cell_type": "code",
   "execution_count": 7,
   "id": "fffaf928",
   "metadata": {},
   "outputs": [
    {
     "name": "stderr",
     "output_type": "stream",
     "text": [
      "\u001b[32m2025-05-07 14:34:36.070\u001b[0m | \u001b[1mINFO    \u001b[0m | \u001b[36mbreast_cancer_classification.dataset\u001b[0m:\u001b[36mmain\u001b[0m:\u001b[36m56\u001b[0m - \u001b[1mLoading data from: C:\\Users\\Megan\\Documents\\github\\Breast-Cancer-Classification---SE489\\data\\raw\\dataset.csv\u001b[0m\n",
      "\u001b[32m2025-05-07 14:34:36.086\u001b[0m | \u001b[32m\u001b[1mSUCCESS \u001b[0m | \u001b[36mbreast_cancer_classification.dataset\u001b[0m:\u001b[36mmain\u001b[0m:\u001b[36m60\u001b[0m - \u001b[32m\u001b[1mFinished preprocessing the data, output: C:\\Users\\Megan\\Documents\\github\\Breast-Cancer-Classification---SE489\\data\\processed\\dataset.csv\u001b[0m\n"
     ]
    }
   ],
   "source": [
    "breast_cancer_classification.dataset.main()"
   ]
  },
  {
   "cell_type": "code",
   "execution_count": 8,
   "id": "0736828e",
   "metadata": {},
   "outputs": [
    {
     "name": "stderr",
     "output_type": "stream",
     "text": [
      "\u001b[32m2025-05-07 14:34:37.006\u001b[0m | \u001b[1mINFO    \u001b[0m | \u001b[36mbreast_cancer_classification.modeling.train\u001b[0m:\u001b[36mmain\u001b[0m:\u001b[36m112\u001b[0m - \u001b[1mLoading data from: C:\\Users\\Megan\\Documents\\github\\Breast-Cancer-Classification---SE489\\data\\processed\\dataset.csv\u001b[0m\n",
      "\u001b[32m2025-05-07 14:34:37.009\u001b[0m | \u001b[1mINFO    \u001b[0m | \u001b[36mbreast_cancer_classification.modeling.train\u001b[0m:\u001b[36mmain\u001b[0m:\u001b[36m115\u001b[0m - \u001b[1mCreating & Training logistic regression (LR) model...\u001b[0m\n",
      "c:\\Users\\Megan\\Documents\\github\\Breast-Cancer-Classification---SE489\\.conda\\Lib\\site-packages\\sklearn\\linear_model\\_logistic.py:465: ConvergenceWarning: lbfgs failed to converge (status=1):\n",
      "STOP: TOTAL NO. OF ITERATIONS REACHED LIMIT.\n",
      "\n",
      "Increase the number of iterations (max_iter) or scale the data as shown in:\n",
      "    https://scikit-learn.org/stable/modules/preprocessing.html\n",
      "Please also refer to the documentation for alternative solver options:\n",
      "    https://scikit-learn.org/stable/modules/linear_model.html#logistic-regression\n",
      "  n_iter_i = _check_optimize_result(\n",
      "\u001b[32m2025-05-07 14:34:37.032\u001b[0m | \u001b[1mINFO    \u001b[0m | \u001b[36mbreast_cancer_classification.modeling.train\u001b[0m:\u001b[36mmain\u001b[0m:\u001b[36m124\u001b[0m - \u001b[1mSaving labels and features for LF model: C:\\Users\\Megan\\Documents\\github\\Breast-Cancer-Classification---SE489\\data\\processed\\labels.csv, C:\\Users\\Megan\\Documents\\github\\Breast-Cancer-Classification---SE489\\data\\processed\\features.csv\u001b[0m\n",
      "\u001b[32m2025-05-07 14:34:37.034\u001b[0m | \u001b[1mINFO    \u001b[0m | \u001b[36mbreast_cancer_classification.modeling.train\u001b[0m:\u001b[36mmain\u001b[0m:\u001b[36m128\u001b[0m - \u001b[1mSaving LR model: C:\\Users\\Megan\\Documents\\github\\Breast-Cancer-Classification---SE489\\models\\model.pkl\u001b[0m\n",
      "\u001b[32m2025-05-07 14:34:37.035\u001b[0m | \u001b[32m\u001b[1mSUCCESS \u001b[0m | \u001b[36mbreast_cancer_classification.modeling.train\u001b[0m:\u001b[36mmain\u001b[0m:\u001b[36m130\u001b[0m - \u001b[32m\u001b[1mModeling training complete.\u001b[0m\n"
     ]
    }
   ],
   "source": [
    "breast_cancer_classification.modeling.train.main()"
   ]
  },
  {
   "cell_type": "code",
   "execution_count": 9,
   "id": "a9d0bd82",
   "metadata": {},
   "outputs": [
    {
     "name": "stderr",
     "output_type": "stream",
     "text": [
      "\u001b[32m2025-05-07 14:34:39.082\u001b[0m | \u001b[1mINFO    \u001b[0m | \u001b[36mbreast_cancer_classification.modeling.predict\u001b[0m:\u001b[36mmain\u001b[0m:\u001b[36m104\u001b[0m - \u001b[1mPerforming inference for model...\u001b[0m\n",
      "\u001b[32m2025-05-07 14:34:39.099\u001b[0m | \u001b[32m\u001b[1mSUCCESS \u001b[0m | \u001b[36mbreast_cancer_classification.modeling.predict\u001b[0m:\u001b[36mmain\u001b[0m:\u001b[36m115\u001b[0m - \u001b[32m\u001b[1mInference complete.\u001b[0m\n"
     ]
    },
    {
     "name": "stdout",
     "output_type": "stream",
     "text": [
      "Accuracy: 0.9210526315789473\n",
      "Confusion Matrix:\n",
      " [[72  3]\n",
      " [ 6 33]]\n",
      "Classification Report:\n",
      "               precision    recall  f1-score   support\n",
      "\n",
      "           0       0.92      0.96      0.94        75\n",
      "           1       0.92      0.85      0.88        39\n",
      "\n",
      "    accuracy                           0.92       114\n",
      "   macro avg       0.92      0.90      0.91       114\n",
      "weighted avg       0.92      0.92      0.92       114\n",
      "\n",
      "Feature Importance Data:\n",
      "                    feature  coefficient  abs_coefficient\n",
      "20             radius_worst    -0.591520         0.591520\n",
      "0               radius_mean    -0.582947         0.582947\n",
      "2            perimeter_mean    -0.482157         0.482157\n",
      "21            texture_worst     0.448102         0.448102\n",
      "1              texture_mean    -0.444101         0.444101\n",
      "26          concavity_worst     0.368554         0.368554\n",
      "25        compactness_worst     0.319829         0.319829\n",
      "22          perimeter_worst     0.304047         0.304047\n",
      "11               texture_se    -0.155529         0.155529\n",
      "6            concavity_mean     0.128399         0.128399\n",
      "13                  area_se     0.118727         0.118727\n",
      "27     concave points_worst     0.102595         0.102595\n",
      "28           symmetry_worst     0.099762         0.099762\n",
      "5          compactness_mean     0.098629         0.098629\n",
      "7       concave points_mean     0.053189         0.053189\n",
      "24         smoothness_worst     0.036867         0.036867\n",
      "29  fractal_dimension_worst     0.030861         0.030861\n",
      "16             concavity_se     0.027568         0.027568\n",
      "10                radius_se    -0.026764         0.026764\n",
      "8             symmetry_mean     0.026189         0.026189\n",
      "15           compactness_se     0.022655         0.022655\n",
      "4           smoothness_mean     0.020032         0.020032\n",
      "3                 area_mean     0.017811         0.017811\n",
      "12             perimeter_se    -0.015504         0.015504\n",
      "23               area_worst     0.014321         0.014321\n",
      "18              symmetry_se     0.007240         0.007240\n",
      "17        concave points_se     0.006789         0.006789\n",
      "9    fractal_dimension_mean     0.006679         0.006679\n",
      "19     fractal_dimension_se     0.002042         0.002042\n",
      "14            smoothness_se     0.001996         0.001996\n"
     ]
    }
   ],
   "source": [
    "breast_cancer_classification.modeling.predict.main()"
   ]
  }
 ],
 "metadata": {
  "kernelspec": {
   "display_name": ".conda",
   "language": "python",
   "name": "python3"
  },
  "language_info": {
   "codemirror_mode": {
    "name": "ipython",
    "version": 3
   },
   "file_extension": ".py",
   "mimetype": "text/x-python",
   "name": "python",
   "nbconvert_exporter": "python",
   "pygments_lexer": "ipython3",
   "version": "3.11.11"
  }
 },
 "nbformat": 4,
 "nbformat_minor": 5
}
