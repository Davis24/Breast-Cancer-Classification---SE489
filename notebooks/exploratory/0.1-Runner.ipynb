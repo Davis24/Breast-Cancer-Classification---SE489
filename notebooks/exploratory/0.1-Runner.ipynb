{
 "cells": [
  {
   "cell_type": "markdown",
   "id": "f65a4eb9",
   "metadata": {},
   "source": [
    "# Breast Cancer Classification Runner\n",
    "With this notebook you can quickly test the project and run the code. However this should only be used for testing purposes."
   ]
  },
  {
   "cell_type": "code",
   "execution_count": 3,
   "id": "6f12c838",
   "metadata": {},
   "outputs": [],
   "source": [
    "import sys\n",
    "\n",
    "#The breast_cancer_classification module sits in a higher directy, we must append it to refernnce it.\n",
    "sys.path.append(\"../../\")\n",
    "\n",
    "import breast_cancer_classification"
   ]
  },
  {
   "cell_type": "code",
   "execution_count": 4,
   "id": "fffaf928",
   "metadata": {},
   "outputs": [],
   "source": [
    "breast_cancer_classification.dataset.main()"
   ]
  },
  {
   "cell_type": "code",
   "execution_count": 5,
   "id": "0736828e",
   "metadata": {},
   "outputs": [
    {
     "name": "stderr",
     "output_type": "stream",
     "text": [
      "\u001b[32m2025-05-07 13:20:07.690\u001b[0m | \u001b[1mINFO    \u001b[0m | \u001b[36mbreast_cancer_classification.modeling.train\u001b[0m:\u001b[36mmain\u001b[0m:\u001b[36m112\u001b[0m - \u001b[1mTraining some model...\u001b[0m\n",
      "c:\\Users\\Megan\\anaconda3\\lib\\site-packages\\sklearn\\linear_model\\_logistic.py:458: ConvergenceWarning: lbfgs failed to converge (status=1):\n",
      "STOP: TOTAL NO. of ITERATIONS REACHED LIMIT.\n",
      "\n",
      "Increase the number of iterations (max_iter) or scale the data as shown in:\n",
      "    https://scikit-learn.org/stable/modules/preprocessing.html\n",
      "Please also refer to the documentation for alternative solver options:\n",
      "    https://scikit-learn.org/stable/modules/linear_model.html#logistic-regression\n",
      "  n_iter_i = _check_optimize_result(\n",
      "\u001b[32m2025-05-07 13:20:07.788\u001b[0m | \u001b[32m\u001b[1mSUCCESS \u001b[0m | \u001b[36mbreast_cancer_classification.modeling.train\u001b[0m:\u001b[36mmain\u001b[0m:\u001b[36m127\u001b[0m - \u001b[32m\u001b[1mModeling training complete.\u001b[0m\n"
     ]
    }
   ],
   "source": [
    "breast_cancer_classification.modeling.train.main()"
   ]
  },
  {
   "cell_type": "code",
   "execution_count": 6,
   "id": "a9d0bd82",
   "metadata": {},
   "outputs": [
    {
     "name": "stderr",
     "output_type": "stream",
     "text": [
      "\u001b[32m2025-05-07 13:20:11.315\u001b[0m | \u001b[1mINFO    \u001b[0m | \u001b[36mbreast_cancer_classification.modeling.predict\u001b[0m:\u001b[36mmain\u001b[0m:\u001b[36m105\u001b[0m - \u001b[1mPerforming inference for model...\u001b[0m\n",
      "\u001b[32m2025-05-07 13:20:11.331\u001b[0m | \u001b[32m\u001b[1mSUCCESS \u001b[0m | \u001b[36mbreast_cancer_classification.modeling.predict\u001b[0m:\u001b[36mmain\u001b[0m:\u001b[36m119\u001b[0m - \u001b[32m\u001b[1mInference complete.\u001b[0m\n"
     ]
    },
    {
     "name": "stdout",
     "output_type": "stream",
     "text": [
      "X_test Shape(114, 30)\n",
      "y_test Shape(114, 1)\n",
      "Accuracy: 0.9210526315789473\n",
      "Confusion Matrix:\n",
      " [[72  3]\n",
      " [ 6 33]]\n",
      "Classification Report:\n",
      "               precision    recall  f1-score   support\n",
      "\n",
      "           0       0.92      0.96      0.94        75\n",
      "           1       0.92      0.85      0.88        39\n",
      "\n",
      "    accuracy                           0.92       114\n",
      "   macro avg       0.92      0.90      0.91       114\n",
      "weighted avg       0.92      0.92      0.92       114\n",
      "\n",
      "Feature Importance Data:\n",
      "                    feature  coefficient  abs_coefficient\n",
      "20             radius_worst    -0.577587         0.577587\n",
      "0               radius_mean    -0.569386         0.569386\n",
      "2            perimeter_mean    -0.489469         0.489469\n",
      "21            texture_worst     0.439176         0.439176\n",
      "1              texture_mean    -0.430022         0.430022\n",
      "26          concavity_worst     0.358114         0.358114\n",
      "25        compactness_worst     0.310620         0.310620\n",
      "22          perimeter_worst     0.308488         0.308488\n",
      "11               texture_se    -0.150530         0.150530\n",
      "6            concavity_mean     0.124644         0.124644\n",
      "13                  area_se     0.117454         0.117454\n",
      "27     concave points_worst     0.099599         0.099599\n",
      "28           symmetry_worst     0.096605         0.096605\n",
      "5          compactness_mean     0.095664         0.095664\n",
      "7       concave points_mean     0.051596         0.051596\n",
      "24         smoothness_worst     0.035658         0.035658\n",
      "29  fractal_dimension_worst     0.029916         0.029916\n",
      "16             concavity_se     0.026806         0.026806\n",
      "10                radius_se    -0.025952         0.025952\n",
      "8             symmetry_mean     0.025315         0.025315\n",
      "15           compactness_se     0.022021         0.022021\n",
      "4           smoothness_mean     0.019341         0.019341\n",
      "3                 area_mean     0.018214         0.018214\n",
      "23               area_worst     0.013699         0.013699\n",
      "12             perimeter_se    -0.011126         0.011126\n",
      "18              symmetry_se     0.007000         0.007000\n",
      "17        concave points_se     0.006595         0.006595\n",
      "9    fractal_dimension_mean     0.006437         0.006437\n",
      "19     fractal_dimension_se     0.001982         0.001982\n",
      "14            smoothness_se     0.001933         0.001933\n"
     ]
    }
   ],
   "source": [
    "breast_cancer_classification.modeling.predict.main()"
   ]
  }
 ],
 "metadata": {
  "kernelspec": {
   "display_name": "base",
   "language": "python",
   "name": "python3"
  },
  "language_info": {
   "codemirror_mode": {
    "name": "ipython",
    "version": 3
   },
   "file_extension": ".py",
   "mimetype": "text/x-python",
   "name": "python",
   "nbconvert_exporter": "python",
   "pygments_lexer": "ipython3",
   "version": "3.10.9"
  }
 },
 "nbformat": 4,
 "nbformat_minor": 5
}
