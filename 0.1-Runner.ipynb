{
 "cells": [
  {
   "cell_type": "code",
   "execution_count": 1,
   "id": "6f12c838",
   "metadata": {},
   "outputs": [
    {
     "name": "stderr",
     "output_type": "stream",
     "text": [
      "\u001b[32m2025-05-07 10:08:46.004\u001b[0m | \u001b[1mINFO    \u001b[0m | \u001b[36mbreast_cancer_classification.config\u001b[0m:\u001b[36m<module>\u001b[0m:\u001b[36m11\u001b[0m - \u001b[1mPROJ_ROOT path is: C:\\Users\\Megan\\Documents\\github\\Breast-Cancer-Classification---SE489\u001b[0m\n"
     ]
    }
   ],
   "source": [
    "import breast_cancer_classification\n",
    "#Order to Run the Module in\n",
    "import breast_cancer_classification.dataset\n",
    "import breast_cancer_classification.modeling.train\n",
    "import breast_cancer_classification.modeling.predict"
   ]
  },
  {
   "cell_type": "code",
   "execution_count": 2,
   "id": "fffaf928",
   "metadata": {},
   "outputs": [],
   "source": [
    "breast_cancer_classification.dataset.main()"
   ]
  },
  {
   "cell_type": "code",
   "execution_count": 3,
   "id": "0736828e",
   "metadata": {},
   "outputs": [
    {
     "name": "stderr",
     "output_type": "stream",
     "text": [
      "\u001b[32m2025-05-07 10:08:59.829\u001b[0m | \u001b[1mINFO    \u001b[0m | \u001b[36mbreast_cancer_classification.modeling.train\u001b[0m:\u001b[36mmain\u001b[0m:\u001b[36m111\u001b[0m - \u001b[1mTraining some model...\u001b[0m\n",
      "c:\\Users\\Megan\\anaconda3\\lib\\site-packages\\sklearn\\linear_model\\_logistic.py:458: ConvergenceWarning: lbfgs failed to converge (status=1):\n",
      "STOP: TOTAL NO. of ITERATIONS REACHED LIMIT.\n",
      "\n",
      "Increase the number of iterations (max_iter) or scale the data as shown in:\n",
      "    https://scikit-learn.org/stable/modules/preprocessing.html\n",
      "Please also refer to the documentation for alternative solver options:\n",
      "    https://scikit-learn.org/stable/modules/linear_model.html#logistic-regression\n",
      "  n_iter_i = _check_optimize_result(\n",
      "\u001b[32m2025-05-07 10:08:59.935\u001b[0m | \u001b[32m\u001b[1mSUCCESS \u001b[0m | \u001b[36mbreast_cancer_classification.modeling.train\u001b[0m:\u001b[36mmain\u001b[0m:\u001b[36m124\u001b[0m - \u001b[32m\u001b[1mModeling training complete.\u001b[0m\n"
     ]
    }
   ],
   "source": [
    "breast_cancer_classification.modeling.train.main()"
   ]
  },
  {
   "cell_type": "code",
   "execution_count": null,
   "id": "a9d0bd82",
   "metadata": {},
   "outputs": [],
   "source": [
    "breast_cancer_classification.modeling.predict.main()"
   ]
  }
 ],
 "metadata": {
  "kernelspec": {
   "display_name": "base",
   "language": "python",
   "name": "python3"
  },
  "language_info": {
   "codemirror_mode": {
    "name": "ipython",
    "version": 3
   },
   "file_extension": ".py",
   "mimetype": "text/x-python",
   "name": "python",
   "nbconvert_exporter": "python",
   "pygments_lexer": "ipython3",
   "version": "3.10.9"
  }
 },
 "nbformat": 4,
 "nbformat_minor": 5
}
